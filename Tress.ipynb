{
 "cells": [
  {
   "cell_type": "code",
   "execution_count": null,
   "metadata": {},
   "outputs": [],
   "source": [
    "# Basic or common node making\n",
    "class Node:\n",
    "    def __init__(self, k):\n",
    "        self.left = None\n",
    "        self.right = None\n",
    "        self.key = k\n",
    "\n",
    "\n",
    "# Input the Nodes\n",
    "root = Node(10)\n",
    "root.left = Node(20)\n",
    "root.right = Node(30)\n",
    "root.right.left = Node(40)\n",
    "root.right.right = Node(50)\n"
   ]
  }
 ],
 "metadata": {
  "language_info": {
   "name": "python"
  }
 },
 "nbformat": 4,
 "nbformat_minor": 2
}
